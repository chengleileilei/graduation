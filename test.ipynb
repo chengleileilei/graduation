{
 "cells": [
  {
   "cell_type": "code",
   "execution_count": 32,
   "metadata": {},
   "outputs": [
    {
     "name": "stdout",
     "output_type": "stream",
     "text": [
      "select inventor_id from inventors where inventor_name='小红';\n",
      "<class 'tuple'>\n",
      "((10,),)\n",
      "name has existed in table!\n"
     ]
    }
   ],
   "source": [
    "import pymysql\n",
    "try:\n",
    "    local_db = pymysql.connect(host='localhost',\n",
    "                               user='root',\n",
    "                               password='password',\n",
    "                               database='report')\n",
    "except:\n",
    "    print(\"connect database fail!\")\n",
    "cursor = local_db.cursor()\n",
    "find_name_sql = 'select inventor_id from inventors where inventor_name=' + \"'小红'\" + ';'\n",
    "\n",
    "cursor.execute(find_name_sql)\n",
    "res = cursor.fetchall()\n",
    "print(find_name_sql,type(res),res,sep='\\n')\n",
    "if not res:\n",
    "    print(\"name is not exist in table!\")\n",
    "else:\n",
    "    print(\"name has existed in table!\")\n",
    "    \n"
   ]
  },
  {
   "cell_type": "code",
   "execution_count": 19,
   "metadata": {},
   "outputs": [
    {
     "ename": "KeyError",
     "evalue": "0",
     "output_type": "error",
     "traceback": [
      "\u001b[1;31m---------------------------------------------------------------------------\u001b[0m",
      "\u001b[1;31mKeyError\u001b[0m                                  Traceback (most recent call last)",
      "\u001b[1;32m<ipython-input-19-123a9cc6df61>\u001b[0m in \u001b[0;36m<module>\u001b[1;34m\u001b[0m\n\u001b[1;32m----> 1\u001b[1;33m \u001b[0md\u001b[0m\u001b[1;33m[\u001b[0m\u001b[1;36m0\u001b[0m\u001b[1;33m]\u001b[0m\u001b[1;33m\u001b[0m\u001b[1;33m\u001b[0m\u001b[0m\n\u001b[0m",
      "\u001b[1;31mKeyError\u001b[0m: 0"
     ]
    }
   ],
   "source": [
    "d[0]"
   ]
  },
  {
   "cell_type": "code",
   "execution_count": 29,
   "metadata": {},
   "outputs": [
    {
     "name": "stdout",
     "output_type": "stream",
     "text": [
      "select max(inventor_id) from inventors;\n",
      "<class 'int'>\n",
      "10\n"
     ]
    }
   ],
   "source": [
    "import pymysql\n",
    "try:\n",
    "    local_db = pymysql.connect(host='localhost',\n",
    "                               user='root',\n",
    "                               password='password',\n",
    "                               database='report')\n",
    "except:\n",
    "    print(\"connect database fail!\")\n",
    "cursor = local_db.cursor()\n",
    "find_max_inventor_id_sql = 'select max(inventor_id) from inventors;'\n",
    "\n",
    "cursor.execute(find_max_inventor_id_sql)\n",
    "res = cursor.fetchall()[0][0]\n",
    "print(find_max_inventor_id_sql,type(res),res,sep='\\n')\n",
    "\n",
    "\n"
   ]
  },
  {
   "cell_type": "code",
   "execution_count": 27,
   "metadata": {},
   "outputs": [
    {
     "data": {
      "text/plain": [
       "True"
      ]
     },
     "execution_count": 27,
     "metadata": {},
     "output_type": "execute_result"
    }
   ],
   "source": [
    "res[0][0]==None"
   ]
  },
  {
   "cell_type": "code",
   "execution_count": 3,
   "metadata": {},
   "outputs": [
    {
     "name": "stdout",
     "output_type": "stream",
     "text": [
      "[1, 2, 3]\n"
     ]
    }
   ],
   "source": [
    "s = str([1,2,3])\n",
    "print(s)"
   ]
  },
  {
   "cell_type": "code",
   "execution_count": 12,
   "metadata": {},
   "outputs": [
    {
     "ename": "TypeError",
     "evalue": "dict expected at most 1 argument, got 2",
     "output_type": "error",
     "traceback": [
      "\u001b[1;31m---------------------------------------------------------------------------\u001b[0m",
      "\u001b[1;31mTypeError\u001b[0m                                 Traceback (most recent call last)",
      "\u001b[1;32m<ipython-input-12-7e31ac03ea0c>\u001b[0m in \u001b[0;36m<module>\u001b[1;34m\u001b[0m\n\u001b[0;32m      1\u001b[0m \u001b[0ma\u001b[0m \u001b[1;33m=\u001b[0m \u001b[1;33m[\u001b[0m\u001b[1;36m1\u001b[0m\u001b[1;33m,\u001b[0m\u001b[1;36m2\u001b[0m\u001b[1;33m,\u001b[0m\u001b[1;36m3\u001b[0m\u001b[1;33m]\u001b[0m\u001b[1;33m\u001b[0m\u001b[1;33m\u001b[0m\u001b[0m\n\u001b[0;32m      2\u001b[0m \u001b[0mb\u001b[0m \u001b[1;33m=\u001b[0m \u001b[1;33m[\u001b[0m\u001b[1;34m'value'\u001b[0m\u001b[1;33m]\u001b[0m\u001b[1;33m\u001b[0m\u001b[1;33m\u001b[0m\u001b[0m\n\u001b[1;32m----> 3\u001b[1;33m \u001b[0mprint\u001b[0m\u001b[1;33m(\u001b[0m\u001b[0mdict\u001b[0m\u001b[1;33m(\u001b[0m\u001b[0ma\u001b[0m\u001b[1;33m,\u001b[0m\u001b[0mb\u001b[0m\u001b[1;33m)\u001b[0m\u001b[1;33m)\u001b[0m\u001b[1;33m\u001b[0m\u001b[1;33m\u001b[0m\u001b[0m\n\u001b[0m",
      "\u001b[1;31mTypeError\u001b[0m: dict expected at most 1 argument, got 2"
     ]
    }
   ],
   "source": [
    "a = [1,2,3]\n",
    "b = ['value']\n",
    "print(dict(zip(a,b)))"
   ]
  },
  {
   "cell_type": "code",
   "execution_count": 8,
   "metadata": {},
   "outputs": [
    {
     "data": {
      "text/plain": [
       "3"
      ]
     },
     "execution_count": 8,
     "metadata": {},
     "output_type": "execute_result"
    }
   ],
   "source": [
    "len(a)"
   ]
  },
  {
   "cell_type": "code",
   "execution_count": 2,
   "metadata": {},
   "outputs": [
    {
     "name": "stdout",
     "output_type": "stream",
     "text": [
      "{\"name\": \"peter\", \"id\": 1}\n",
      "<class 'str'>\n"
     ]
    }
   ],
   "source": [
    "import json\n",
    "d = {'name':'peter','id':1}\n",
    "print(json.dumps(d))\n",
    "\n",
    "print(type(json.dumps(d)))\n"
   ]
  },
  {
   "cell_type": "code",
   "execution_count": 2,
   "metadata": {},
   "outputs": [
    {
     "name": "stdout",
     "output_type": "stream",
     "text": [
      "['abc']\n"
     ]
    }
   ],
   "source": [
    "a = [\"abc\"]\n",
    "print(str(a))"
   ]
  },
  {
   "cell_type": "code",
   "execution_count": 13,
   "metadata": {},
   "outputs": [
    {
     "name": "stdout",
     "output_type": "stream",
     "text": [
      "张元\n",
      "[77735]\n",
      "1\n",
      "{\"12367\": {\"times\": [\"2020-10-29\"], \"patents_num\": 1, \"company_name\": [\"斯坦德机器人(深圳)有限公司\"]}}\n",
      "{\"H02J7/00\": \"2020-10-29\", \"H01R13/502\": \"2020-10-29\", \"H01R13/631\": \"2020-10-29\"}\n",
      "{\"1\": {\"name\": \"付小康\", \"times\": [\"2020-10-29\"]}, \"2\": {\"name\": \"韩笑\", \"times\": [\"2020-10-29\"]}, \"3\": {\"name\": \"张元\", \"times\": [\"2020-10-29\"]}}\n"
     ]
    }
   ],
   "source": [
    "import pymysql\n",
    "try:\n",
    "    local_db = pymysql.connect(host='localhost',\n",
    "                               user='root',\n",
    "                               password='password',\n",
    "                               database='report')\n",
    "except:\n",
    "    print(\"connect database fail!\")\n",
    "cursor = local_db.cursor()\n",
    "\n",
    "inventors_column_prop = ['inventor_name', 'patents_ids',\n",
    "                            'inventor_patents_totalnum', 'inventor_companys', 'patents_ipcs', 'collaborators']\n",
    "inventor_data={}\n",
    "for col in inventors_column_prop:\n",
    "    find_sql = 'select ' + col + ' from inventors where inventor_id=' + '3' + ';'\n",
    "    cursor.execute(find_sql)\n",
    "    inventors_res = cursor.fetchall()[0][0]\n",
    "    print(inventors_res)"
   ]
  },
  {
   "cell_type": "code",
   "execution_count": 14,
   "metadata": {},
   "outputs": [
    {
     "data": {
      "text/plain": [
       "[1, 1, 1]"
      ]
     },
     "execution_count": 14,
     "metadata": {},
     "output_type": "execute_result"
    }
   ],
   "source": [
    "[1]*3"
   ]
  },
  {
   "cell_type": "code",
   "execution_count": 15,
   "metadata": {},
   "outputs": [
    {
     "data": {
      "text/plain": [
       "[[1], [1], [1]]"
      ]
     },
     "execution_count": 15,
     "metadata": {},
     "output_type": "execute_result"
    }
   ],
   "source": [
    "[[1]]*3"
   ]
  },
  {
   "cell_type": "code",
   "execution_count": 23,
   "metadata": {},
   "outputs": [
    {
     "name": "stdout",
     "output_type": "stream",
     "text": [
      "['[', '1', '2', '3', ']'] <class 'str'>\n"
     ]
    }
   ],
   "source": [
    "import ast\n",
    "s = '[123]'\n",
    "a = ast.literal_eval(s)\n",
    "print(a,type(a[0]))"
   ]
  },
  {
   "cell_type": "code",
   "execution_count": 25,
   "metadata": {},
   "outputs": [
    {
     "name": "stdout",
     "output_type": "stream",
     "text": [
      "[1, 2, 3, 4]\n"
     ]
    }
   ],
   "source": [
    "a = [1,2,3]\n",
    "b = a+[4]\n",
    "print(b)"
   ]
  },
  {
   "cell_type": "code",
   "execution_count": 27,
   "metadata": {},
   "outputs": [
    {
     "name": "stdout",
     "output_type": "stream",
     "text": [
      "{'a': 2} <class 'dict'>\n"
     ]
    }
   ],
   "source": [
    "s = '{\"a\":\"pet\"}'\n",
    "import json\n",
    "d = json.loads(s)\n",
    "print(d,type(d))"
   ]
  },
  {
   "cell_type": "code",
   "execution_count": 40,
   "metadata": {},
   "outputs": [
    {
     "data": {
      "text/plain": [
       "True"
      ]
     },
     "execution_count": 40,
     "metadata": {},
     "output_type": "execute_result"
    }
   ],
   "source": [
    "'a' in d"
   ]
  },
  {
   "cell_type": "code",
   "execution_count": 3,
   "metadata": {},
   "outputs": [],
   "source": [
    "a = [1,2,3]\n",
    "b = []\n"
   ]
  },
  {
   "cell_type": "code",
   "execution_count": 4,
   "metadata": {},
   "outputs": [
    {
     "data": {
      "text/plain": [
       "[1, 2, 3]"
      ]
     },
     "execution_count": 4,
     "metadata": {},
     "output_type": "execute_result"
    }
   ],
   "source": [
    "a+b"
   ]
  },
  {
   "cell_type": "code",
   "execution_count": null,
   "metadata": {},
   "outputs": [],
   "source": []
  }
 ],
 "metadata": {
  "interpreter": {
   "hash": "28b71809f196d22572787220616c964baf8fa35aedaf155786010eafaca48742"
  },
  "kernelspec": {
   "display_name": "Python 3.8.5 ('base')",
   "language": "python",
   "name": "python3"
  },
  "language_info": {
   "codemirror_mode": {
    "name": "ipython",
    "version": 3
   },
   "file_extension": ".py",
   "mimetype": "text/x-python",
   "name": "python",
   "nbconvert_exporter": "python",
   "pygments_lexer": "ipython3",
   "version": "3.8.5"
  },
  "orig_nbformat": 4
 },
 "nbformat": 4,
 "nbformat_minor": 2
}
