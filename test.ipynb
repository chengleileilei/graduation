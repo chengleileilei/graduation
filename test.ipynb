{
 "cells": [
  {
   "cell_type": "code",
   "execution_count": 32,
   "metadata": {},
   "outputs": [
    {
     "name": "stdout",
     "output_type": "stream",
     "text": [
      "select inventor_id from inventors where inventor_name='小红';\n",
      "<class 'tuple'>\n",
      "((10,),)\n",
      "name has existed in table!\n"
     ]
    }
   ],
   "source": [
    "import pymysql\n",
    "try:\n",
    "    local_db = pymysql.connect(host='localhost',\n",
    "                               user='root',\n",
    "                               password='password',\n",
    "                               database='report')\n",
    "except:\n",
    "    print(\"connect database fail!\")\n",
    "cursor = local_db.cursor()\n",
    "find_name_sql = 'select inventor_id from inventors where inventor_name=' + \"'小红'\" + ';'\n",
    "\n",
    "cursor.execute(find_name_sql)\n",
    "res = cursor.fetchall()\n",
    "print(find_name_sql,type(res),res,sep='\\n')\n",
    "if not res:\n",
    "    print(\"name is not exist in table!\")\n",
    "else:\n",
    "    print(\"name has existed in table!\")\n",
    "    \n"
   ]
  },
  {
   "cell_type": "code",
   "execution_count": 18,
   "metadata": {},
   "outputs": [],
   "source": [
    "d = {'a':1}\n"
   ]
  },
  {
   "cell_type": "code",
   "execution_count": 19,
   "metadata": {},
   "outputs": [
    {
     "ename": "KeyError",
     "evalue": "0",
     "output_type": "error",
     "traceback": [
      "\u001b[1;31m---------------------------------------------------------------------------\u001b[0m",
      "\u001b[1;31mKeyError\u001b[0m                                  Traceback (most recent call last)",
      "\u001b[1;32m<ipython-input-19-123a9cc6df61>\u001b[0m in \u001b[0;36m<module>\u001b[1;34m\u001b[0m\n\u001b[1;32m----> 1\u001b[1;33m \u001b[0md\u001b[0m\u001b[1;33m[\u001b[0m\u001b[1;36m0\u001b[0m\u001b[1;33m]\u001b[0m\u001b[1;33m\u001b[0m\u001b[1;33m\u001b[0m\u001b[0m\n\u001b[0m",
      "\u001b[1;31mKeyError\u001b[0m: 0"
     ]
    }
   ],
   "source": [
    "d[0]"
   ]
  },
  {
   "cell_type": "code",
   "execution_count": 29,
   "metadata": {},
   "outputs": [
    {
     "name": "stdout",
     "output_type": "stream",
     "text": [
      "select max(inventor_id) from inventors;\n",
      "<class 'int'>\n",
      "10\n"
     ]
    }
   ],
   "source": [
    "import pymysql\n",
    "try:\n",
    "    local_db = pymysql.connect(host='localhost',\n",
    "                               user='root',\n",
    "                               password='password',\n",
    "                               database='report')\n",
    "except:\n",
    "    print(\"connect database fail!\")\n",
    "cursor = local_db.cursor()\n",
    "find_max_inventor_id_sql = 'select max(inventor_id) from inventors;'\n",
    "\n",
    "cursor.execute(find_max_inventor_id_sql)\n",
    "res = cursor.fetchall()[0][0]\n",
    "print(find_max_inventor_id_sql,type(res),res,sep='\\n')\n",
    "\n",
    "\n"
   ]
  },
  {
   "cell_type": "code",
   "execution_count": 27,
   "metadata": {},
   "outputs": [
    {
     "data": {
      "text/plain": [
       "True"
      ]
     },
     "execution_count": 27,
     "metadata": {},
     "output_type": "execute_result"
    }
   ],
   "source": [
    "res[0][0]==None"
   ]
  },
  {
   "cell_type": "code",
   "execution_count": null,
   "metadata": {},
   "outputs": [],
   "source": []
  }
 ],
 "metadata": {
  "interpreter": {
   "hash": "28b71809f196d22572787220616c964baf8fa35aedaf155786010eafaca48742"
  },
  "kernelspec": {
   "display_name": "Python 3.8.5 ('base')",
   "language": "python",
   "name": "python3"
  },
  "language_info": {
   "codemirror_mode": {
    "name": "ipython",
    "version": 3
   },
   "file_extension": ".py",
   "mimetype": "text/x-python",
   "name": "python",
   "nbconvert_exporter": "python",
   "pygments_lexer": "ipython3",
   "version": "3.8.5"
  },
  "orig_nbformat": 4
 },
 "nbformat": 4,
 "nbformat_minor": 2
}
