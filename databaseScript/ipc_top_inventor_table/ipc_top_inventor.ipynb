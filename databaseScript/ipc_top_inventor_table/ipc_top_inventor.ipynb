{
 "cells": [
  {
   "cell_type": "code",
   "execution_count": null,
   "metadata": {},
   "outputs": [],
   "source": [
    "import pymysql\n",
    "try:\n",
    "    local_db = pymysql.connect(host='localhost',\n",
    "                               user='root',\n",
    "                               password='password',\n",
    "                               database='report')\n",
    "except:\n",
    "    print(\"connect database fail!\")\n",
    "local_cursor = local_db.cursor()\n",
    "\n"
   ]
  }
 ],
 "metadata": {
  "language_info": {
   "name": "python"
  },
  "orig_nbformat": 4
 },
 "nbformat": 4,
 "nbformat_minor": 2
}
